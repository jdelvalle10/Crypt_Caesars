{
  "metadata": {
    "language_info": {
      "codemirror_mode": {
        "name": "python",
        "version": 3
      },
      "file_extension": ".py",
      "mimetype": "text/x-python",
      "name": "python",
      "nbconvert_exporter": "python",
      "pygments_lexer": "ipython3",
      "version": "3.8"
    },
    "kernelspec": {
      "name": "python",
      "display_name": "Python (Pyodide)",
      "language": "python"
    }
  },
  "nbformat_minor": 4,
  "nbformat": 4,
  "cells": [
    {
      "cell_type": "markdown",
      "source": "# Caesar's Cipher #",
      "metadata": {}
    },
    {
      "cell_type": "markdown",
      "source": "In cryptography, a Caesar cipher, also known as Caesar's cipher, the shift cipher, Caesar's code or Caesar shift, is one of the simplest and most widely known encryption techniques. It is a type of substitution cipher in which each letter in the plaintext is replaced by a letter some fixed number of positions down the alphabet. For example, with a left shift of 3, D would be replaced by A, E would become B, and so on. The method is named after Julius Caesar, who used it in his private correspondence. ",
      "metadata": {}
    },
    {
      "cell_type": "markdown",
      "source": "## Implementation in Python",
      "metadata": {}
    },
    {
      "cell_type": "markdown",
      "source": "1. We need to select a alphabet to write the messages with. Also, initialize some auxiliar variables that we would need down the road.",
      "metadata": {}
    },
    {
      "cell_type": "code",
      "source": "cipher = \"\"\ni = 0\nkey = 17 #Number of characters shifted \nalphabet = 'ABCDEFGHIJKLMNOPQRSTUVWXYZ'\ngarbage = ',.!1234567890():;[]\" '\ndictionary = {}",
      "metadata": {
        "trusted": true
      },
      "execution_count": 1,
      "outputs": []
    },
    {
      "cell_type": "markdown",
      "source": "2. Let's import the text we want to encrypt",
      "metadata": {}
    },
    {
      "cell_type": "code",
      "source": "text = open('text.txt')\nplain_text = text.readlines()",
      "metadata": {
        "trusted": true
      },
      "execution_count": 2,
      "outputs": []
    },
    {
      "cell_type": "markdown",
      "source": "3. This is how the message looks like now",
      "metadata": {}
    },
    {
      "cell_type": "code",
      "source": "print(plain_text)",
      "metadata": {
        "trusted": true
      },
      "execution_count": 3,
      "outputs": [
        {
          "name": "stdout",
          "text": "[\"During World War II, in 1944, a United States Navy submarine and it's crew of 80 members disappeared off of the coast of Japan. During its time in operation, the submarine was in working order with researchers still questioning what may have happened to it. Today, Tim Taylor and his team are on the search for it, utilizing modern technology to aid in the search. However, due to technical difficulties, the expedition had to be cut short. Yet, when he checked the footage, he noticed something interesting about the data that led him to search once more. What Taylor and his team found shocked everyone involved.\\n\"]\n",
          "output_type": "stream"
        }
      ]
    },
    {
      "cell_type": "markdown",
      "source": "4. Sell all characters upper case",
      "metadata": {}
    },
    {
      "cell_type": "code",
      "source": "plain_text = str(plain_text)\nplain_text = plain_text.upper()",
      "metadata": {
        "trusted": true
      },
      "execution_count": 4,
      "outputs": []
    },
    {
      "cell_type": "markdown",
      "source": "5. Now we need to \"clean\" the plain text of spaces and other punctuation marks.",
      "metadata": {}
    },
    {
      "cell_type": "code",
      "source": "for c in plain_text:\n    if c in garbage:\n        plain_text = plain_text.replace(c,\"\")",
      "metadata": {
        "trusted": true
      },
      "execution_count": 5,
      "outputs": []
    },
    {
      "cell_type": "markdown",
      "source": "This is how the plain text looks like now:",
      "metadata": {}
    },
    {
      "cell_type": "code",
      "source": "print(plain_text)",
      "metadata": {
        "trusted": true
      },
      "execution_count": 6,
      "outputs": [
        {
          "name": "stdout",
          "text": "DURINGWORLDWARIIINAUNITEDSTATESNAVYSUBMARINEANDIT'SCREWOFMEMBERSDISAPPEAREDOFFOFTHECOASTOFJAPANDURINGITSTIMEINOPERATIONTHESUBMARINEWASINWORKINGORDERWITHRESEARCHERSSTILLQUESTIONINGWHATMAYHAVEHAPPENEDTOITTODAYTIMTAYLORANDHISTEAMAREONTHESEARCHFORITUTILIZINGMODERNTECHNOLOGYTOAIDINTHESEARCHHOWEVERDUETOTECHNICALDIFFICULTIESTHEEXPEDITIONHADTOBECUTSHORTYETWHENHECHECKEDTHEFOOTAGEHENOTICEDSOMETHINGINTERESTINGABOUTTHEDATATHATLEDHIMTOSEARCHONCEMOREWHATTAYLORANDHISTEAMFOUNDSHOCKEDEVERYONEINVOLVED\\N\n",
          "output_type": "stream"
        }
      ]
    },
    {
      "cell_type": "markdown",
      "source": "6. Now we need a new alphabet created using a key-shift. We can use a dictionary to store both, original and new keys.",
      "metadata": {}
    },
    {
      "cell_type": "code",
      "source": "for c in alphabet:\n    dictionary[c]=alphabet[(i+key)%26]\n    i+=1",
      "metadata": {
        "trusted": true
      },
      "execution_count": 7,
      "outputs": []
    },
    {
      "cell_type": "markdown",
      "source": "**Please notice that the value for each key in the dictionary is taken from the original alphabet index modulus 26**",
      "metadata": {}
    },
    {
      "cell_type": "markdown",
      "source": "This is how the dictionary looks like now:",
      "metadata": {}
    },
    {
      "cell_type": "code",
      "source": "dictionary",
      "metadata": {
        "trusted": true
      },
      "execution_count": 8,
      "outputs": [
        {
          "execution_count": 8,
          "output_type": "execute_result",
          "data": {
            "text/plain": "{'A': 'R',\n 'B': 'S',\n 'C': 'T',\n 'D': 'U',\n 'E': 'V',\n 'F': 'W',\n 'G': 'X',\n 'H': 'Y',\n 'I': 'Z',\n 'J': 'A',\n 'K': 'B',\n 'L': 'C',\n 'M': 'D',\n 'N': 'E',\n 'O': 'F',\n 'P': 'G',\n 'Q': 'H',\n 'R': 'I',\n 'S': 'J',\n 'T': 'K',\n 'U': 'L',\n 'V': 'M',\n 'W': 'N',\n 'X': 'O',\n 'Y': 'P',\n 'Z': 'Q'}"
          },
          "metadata": {}
        }
      ]
    },
    {
      "cell_type": "markdown",
      "source": "Now we encrypt the message using the dictionary",
      "metadata": {}
    },
    {
      "cell_type": "code",
      "source": "for char in plain_text:\n    if char in dictionary.keys():\n        cipher = cipher + dictionary[char]\n    else:\n        cipher = cipher + '*'",
      "metadata": {
        "trusted": true
      },
      "execution_count": 9,
      "outputs": []
    },
    {
      "cell_type": "code",
      "source": "cipher",
      "metadata": {
        "trusted": true
      },
      "execution_count": 10,
      "outputs": [
        {
          "execution_count": 10,
          "output_type": "execute_result",
          "data": {
            "text/plain": "'ULIZEXNFICUNRIZZZERLEZKVUJKRKVJERMPJLSDRIZEVREUZK*JTIVNFWDVDSVIJUZJRGGVRIVUFWWFWKYVTFRJKFWARGREULIZEXZKJKZDVZEFGVIRKZFEKYVJLSDRIZEVNRJZENFIBZEXFIUVINZKYIVJVRITYVIJJKZCCHLVJKZFEZEXNYRKDRPYRMVYRGGVEVUKFZKKFURPKZDKRPCFIREUYZJKVRDRIVFEKYVJVRITYWFIZKLKZCZQZEXDFUVIEKVTYEFCFXPKFRZUZEKYVJVRITYYFNVMVIULVKFKVTYEZTRCUZWWZTLCKZVJKYVVOGVUZKZFEYRUKFSVTLKJYFIKPVKNYVEYVTYVTBVUKYVWFFKRXVYVEFKZTVUJFDVKYZEXZEKVIVJKZEXRSFLKKYVURKRKYRKCVUYZDKFJVRITYFETVDFIVNYRKKRPCFIREUYZJKVRDWFLEUJYFTBVUVMVIPFEVZEMFCMVU*E'"
          },
          "metadata": {}
        }
      ]
    },
    {
      "cell_type": "markdown",
      "source": "Now, we write the ciphered text into a file (cipher.txt)",
      "metadata": {}
    },
    {
      "cell_type": "code",
      "source": "ciphered_text = open('cipher.txt','w+')",
      "metadata": {
        "trusted": true
      },
      "execution_count": 11,
      "outputs": []
    },
    {
      "cell_type": "code",
      "source": "ciphered_text.write(cipher)\nciphered_text.close()",
      "metadata": {
        "trusted": true
      },
      "execution_count": 12,
      "outputs": []
    }
  ]
}