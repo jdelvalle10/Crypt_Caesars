{
  "metadata": {
    "language_info": {
      "codemirror_mode": {
        "name": "python",
        "version": 3
      },
      "file_extension": ".py",
      "mimetype": "text/x-python",
      "name": "python",
      "nbconvert_exporter": "python",
      "pygments_lexer": "ipython3",
      "version": "3.8"
    },
    "kernelspec": {
      "name": "python",
      "display_name": "Python (Pyodide)",
      "language": "python"
    }
  },
  "nbformat_minor": 4,
  "nbformat": 4,
  "cells": [
    {
      "cell_type": "markdown",
      "source": "# Substitution Cipher #",
      "metadata": {}
    },
    {
      "cell_type": "markdown",
      "source": "The Vigenère cipher is a method of encrypting alphabetic text by using a series of interwoven Caesar ciphers, based on the letters of a keyword. It employs a form of polyalphabetic substitution.\n\nFirst described by Giovan Battista Bellaso in 1553, the cipher is easy to understand and implement, but it resisted all attempts to break it until 1863, three centuries later. This earned it the description le chiffrage indéchiffrable (French for 'the indecipherable cipher'). Many people have tried to implement encryption schemes that are essentially Vigenère ciphers. In 1863, Friedrich Kasiski was the first to publish a general method of deciphering Vigenère ciphers.",
      "metadata": {}
    },
    {
      "cell_type": "markdown",
      "source": "1. Start defining auxiliar variables and the original alphabet",
      "metadata": {}
    },
    {
      "cell_type": "code",
      "source": "import random\nalphabet = list(\"ABCDEFGHIJKLMNOPQRSTUVWXYZ\")\nkey = \"\"\nl = len(alphabet)-1\ncipher = \"\"",
      "metadata": {
        "trusted": true
      },
      "execution_count": 171,
      "outputs": []
    },
    {
      "cell_type": "markdown",
      "source": "2. The key is a new alphabet created picking random characters from the original alphabet",
      "metadata": {}
    },
    {
      "cell_type": "code",
      "source": "for n in range(0,l+1):\n    key = key + alphabet.pop(random.randint(0,l))\n    l = l - 1\nprint(\"Key -> \",key)",
      "metadata": {
        "trusted": true
      },
      "execution_count": 172,
      "outputs": [
        {
          "name": "stdout",
          "text": "Key ->  ZWXELYRKPUGTOIMVDHBFNCAQSJ\n",
          "output_type": "stream"
        }
      ]
    },
    {
      "cell_type": "markdown",
      "source": "3. You would notice that the key was generated randomly and it's different every time we run the code. Now we need to import the file that has the message in plain text.",
      "metadata": {}
    },
    {
      "cell_type": "code",
      "source": "file = open('plainText.txt')\npT = str(file.readlines())\nplainText = pT.upper()\nalphabet = list(\"ABCDEFGHIJKLMNOPQRSTUVWXYZ\")\nprint('*** Message ***')\nprint(plainText)",
      "metadata": {
        "trusted": true
      },
      "execution_count": 173,
      "outputs": [
        {
          "name": "stdout",
          "text": "*** Message ***\n['IN 1586 BLAISE DE VIGENÈRE PUBLISHED A TYPE OF POLYALPHABETIC CIPHER CALLED AN AUTOKEY CIPHER – BECAUSE ITS KEY IS BASED ON THE ORIGINAL PLAINTEXT – BEFORE THE COURT OF HENRY III OF FRANCE.[7] THE CIPHER NOW KNOWN AS THE VIGENÈRE CIPHER, HOWEVER, IS THAT ORIGINALLY DESCRIBED BY GIOVAN BATTISTA BELLASO IN HIS 1553 BOOK LA CIFRA DEL SIG. GIOVAN BATTISTA BELLASO.[8] HE BUILT UPON THE TABULA RECTA OF TRITHEMIUS BUT ADDED A REPEATING \"COUNTERSIGN\" (A KEY) TO SWITCH CIPHER ALPHABETS EVERY LETTER. WHEREAS ALBERTI AND TRITHEMIUS USED A FIXED PATTERN OF SUBSTITUTIONS, BELLASO\\'S SCHEME MEANT THE PATTERN OF SUBSTITUTIONS COULD BE EASILY CHANGED, SIMPLY BY SELECTING A NEW KEY. KEYS WERE TYPICALLY SINGLE WORDS OR SHORT PHRASES, KNOWN TO BOTH PARTIES IN ADVANCE, OR TRANSMITTED \"OUT OF BAND\" ALONG WITH THE MESSAGE. BELLASO\\'S METHOD THUS REQUIRED STRONG SECURITY FOR ONLY THE KEY. AS IT IS RELATIVELY EASY TO SECURE A SHORT KEY PHRASE, SUCH AS BY A PREVIOUS PRIVATE CONVERSATION, BELLASO\\'S SYSTEM WAS CONSIDERABLY MORE SECURE']\n",
          "output_type": "stream"
        }
      ]
    },
    {
      "cell_type": "markdown",
      "source": "4. Now we map each character in the plain text to the corresponding character in the key.",
      "metadata": {}
    },
    {
      "cell_type": "code",
      "source": "index = 0\nfor character in plainText:\n    if character in alphabet:\n        index = alphabet.index(character)\n        cipher = cipher + key[index]",
      "metadata": {
        "trusted": true
      },
      "execution_count": 176,
      "outputs": []
    },
    {
      "cell_type": "markdown",
      "source": "5. Save the output in a file and don't forget to close it. ",
      "metadata": {}
    },
    {
      "cell_type": "code",
      "source": "outputFile = open('cipher.txt','+w')\noutputFile.write(cipher)\noutputFile.close()",
      "metadata": {
        "trusted": true
      },
      "execution_count": 177,
      "outputs": []
    },
    {
      "cell_type": "code",
      "source": "",
      "metadata": {},
      "execution_count": null,
      "outputs": []
    },
    {
      "cell_type": "code",
      "source": "",
      "metadata": {},
      "execution_count": null,
      "outputs": []
    }
  ]
}