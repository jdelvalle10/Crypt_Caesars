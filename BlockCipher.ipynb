{
 "cells": [
  {
   "cell_type": "markdown",
   "id": "1d2ca401-f292-49e7-bd94-4392f2a3e335",
   "metadata": {},
   "source": [
    "# Block Ciphers #\n",
    "In cryptography, a block cipher is a deterministic algorithm operating on fixed-length groups of bits, called blocks. They are specified elementary components in the design of many cryptographic protocols and are widely used to encrypt large amounts of data, including in data exchange protocols. It uses blocks as an unvarying transformation.\n",
    "\n",
    "Even a secure block cipher is suitable for the encryption of only a single block of data at a time, using a fixed key. A multitude of modes of operation have been designed to allow their repeated use in a secure way to achieve the security goals of confidentiality and authenticity. However, block ciphers may also feature as building blocks in other cryptographic protocols, such as universal hash functions and pseudorandom number generators."
   ]
  },
  {
   "cell_type": "markdown",
   "id": "0bef5487-0ab9-4d2f-947d-6c616f103036",
   "metadata": {},
   "source": [
    "## Implementation of a Block Cipher ##\n",
    "\n",
    "1. Import the plain text file to be encrypted"
   ]
  },
  {
   "cell_type": "code",
   "execution_count": 1,
   "id": "40486eb3-e2c1-465e-9a52-c6ad28117b18",
   "metadata": {},
   "outputs": [],
   "source": [
    "import random"
   ]
  },
  {
   "cell_type": "code",
   "execution_count": 2,
   "id": "d283f69c-d659-4fe3-8686-912d467f883f",
   "metadata": {},
   "outputs": [],
   "source": [
    "alphabet = 'ABCDEFGHIJKLMNOPQRSTUVWXYZ'\n",
    "cipher = ''\n",
    "plain = ''\n",
    "plainText = open('text.txt')\n",
    "pt = str(plainText.readlines()).upper()"
   ]
  },
  {
   "cell_type": "markdown",
   "id": "62c66c0b-303a-4ad6-8690-e106fc9d74e8",
   "metadata": {},
   "source": [
    "2. Now prepare the text to be encrypted, eliminating extra characters"
   ]
  },
  {
   "cell_type": "code",
   "execution_count": 3,
   "id": "3050a1ea-a835-4fc7-ad63-60f1918ee480",
   "metadata": {},
   "outputs": [],
   "source": [
    "pt.replace('\\\\N','') #This eliminates escape sequences '\\n' in the plain text\n",
    "for c in pt:\n",
    "    if c in alphabet:\n",
    "        plain = plain + c"
   ]
  },
  {
   "cell_type": "markdown",
   "id": "4cd63362-28cf-40ac-a387-d4f8c3f5936f",
   "metadata": {},
   "source": [
    "3. This is how the plain text looks like after preparing it. "
   ]
  },
  {
   "cell_type": "code",
   "execution_count": 4,
   "id": "c8ced5e6-c9c2-4e5e-928c-5a7c3bd2e9b5",
   "metadata": {},
   "outputs": [
    {
     "data": {
      "text/plain": [
       "['T',\n",
       " 'H',\n",
       " 'I',\n",
       " 'S',\n",
       " 'I',\n",
       " 'S',\n",
       " 'W',\n",
       " 'H',\n",
       " 'A',\n",
       " 'T',\n",
       " 'E',\n",
       " 'V',\n",
       " 'E',\n",
       " 'R',\n",
       " 'I',\n",
       " 'W',\n",
       " 'A',\n",
       " 'N',\n",
       " 'T',\n",
       " 'K',\n",
       " 'I',\n",
       " 'D',\n",
       " 'S',\n",
       " 'A',\n",
       " 'R',\n",
       " 'E',\n",
       " 'W',\n",
       " 'E',\n",
       " 'I',\n",
       " 'R',\n",
       " 'D',\n",
       " 'N']"
      ]
     },
     "execution_count": 4,
     "metadata": {},
     "output_type": "execute_result"
    }
   ],
   "source": [
    "list(plain)"
   ]
  },
  {
   "cell_type": "markdown",
   "id": "e36aa6bf-350a-430b-a04a-c862ab28a1a0",
   "metadata": {},
   "source": [
    "4. Now encode it, this is to find their ASCII value using the method *ord()* and convert that value to binary with the method *bin()*"
   ]
  },
  {
   "cell_type": "code",
   "execution_count": 5,
   "id": "95ee6096-3d5e-4c09-b86e-886529aee7ac",
   "metadata": {},
   "outputs": [],
   "source": [
    "binaryText = []\n",
    "for l in plain:\n",
    "    binaryText.append(bin(ord(l)))"
   ]
  },
  {
   "cell_type": "markdown",
   "id": "1ced1a84-aedd-497f-bd69-672c9701aa25",
   "metadata": {},
   "source": [
    "This is how the text looks like after being encoded in binary."
   ]
  },
  {
   "cell_type": "code",
   "execution_count": 6,
   "id": "1d65f9d6-bafc-44b2-90d3-f5ae310d199f",
   "metadata": {},
   "outputs": [
    {
     "data": {
      "text/plain": [
       "['0b1010100',\n",
       " '0b1001000',\n",
       " '0b1001001',\n",
       " '0b1010011',\n",
       " '0b1001001',\n",
       " '0b1010011',\n",
       " '0b1010111',\n",
       " '0b1001000',\n",
       " '0b1000001',\n",
       " '0b1010100',\n",
       " '0b1000101',\n",
       " '0b1010110',\n",
       " '0b1000101',\n",
       " '0b1010010',\n",
       " '0b1001001',\n",
       " '0b1010111',\n",
       " '0b1000001',\n",
       " '0b1001110',\n",
       " '0b1010100',\n",
       " '0b1001011',\n",
       " '0b1001001',\n",
       " '0b1000100',\n",
       " '0b1010011',\n",
       " '0b1000001',\n",
       " '0b1010010',\n",
       " '0b1000101',\n",
       " '0b1010111',\n",
       " '0b1000101',\n",
       " '0b1001001',\n",
       " '0b1010010',\n",
       " '0b1000100',\n",
       " '0b1001110']"
      ]
     },
     "execution_count": 6,
     "metadata": {},
     "output_type": "execute_result"
    }
   ],
   "source": [
    "binaryText"
   ]
  },
  {
   "cell_type": "markdown",
   "id": "b6b74f90-7649-4c27-95da-58b5fb91f694",
   "metadata": {},
   "source": [
    "5. Now, generate a 8-bit random key"
   ]
  },
  {
   "cell_type": "code",
   "execution_count": 7,
   "id": "651fbfed-04d9-4c8f-a58c-9025bb8d7a37",
   "metadata": {},
   "outputs": [
    {
     "name": "stdout",
     "output_type": "stream",
     "text": [
      "0b11011010\n"
     ]
    }
   ],
   "source": [
    "key = random.randint(0,255)\n",
    "key = bin(key)\n",
    "print(key)"
   ]
  },
  {
   "cell_type": "markdown",
   "id": "23c5346b-c56a-4476-a41c-d137c4f5334e",
   "metadata": {},
   "source": [
    "6. XOR both, key and each element of the text in binary to obtain the cipher. \n",
    "Note that the XOR operation needs numbers, not strings to work properly."
   ]
  },
  {
   "cell_type": "code",
   "execution_count": 8,
   "id": "9daea034-d37e-43ae-a896-553c0113a17d",
   "metadata": {},
   "outputs": [],
   "source": [
    "decCipher = []\n",
    "for c in binaryText:\n",
    "    decCipher.append(int(c,2) ^ int(key,2))"
   ]
  },
  {
   "cell_type": "markdown",
   "id": "cb380c45-86dd-4f0a-95b4-a6e1064bcbaf",
   "metadata": {},
   "source": [
    "This is how the cipher looks like, in decimal system"
   ]
  },
  {
   "cell_type": "code",
   "execution_count": 9,
   "id": "c98b6695-7e54-45c1-a544-78373ec16a34",
   "metadata": {},
   "outputs": [
    {
     "name": "stdout",
     "output_type": "stream",
     "text": [
      "[142, 146, 147, 137, 147, 137, 141, 146, 155, 142, 159, 140, 159, 136, 147, 141, 155, 148, 142, 145, 147, 158, 137, 155, 136, 159, 141, 159, 147, 136, 158, 148]"
     ]
    }
   ],
   "source": [
    "print(decCipher,end='')"
   ]
  },
  {
   "cell_type": "markdown",
   "id": "f6a86069-f0a5-4685-82dd-6927bec878de",
   "metadata": {},
   "source": [
    "7. We can convert each number into an ASCII symbol if we want, and this is how would look like:"
   ]
  },
  {
   "cell_type": "code",
   "execution_count": 10,
   "id": "b524b77e-d6f4-4427-b92f-f633261e2996",
   "metadata": {},
   "outputs": [
    {
     "name": "stdout",
     "output_type": "stream",
     "text": [
      "The ciphered text is:  \n"
     ]
    }
   ],
   "source": [
    "cipherText = \"\"\n",
    "for n in decCipher:\n",
    "    cipherText = cipherText + chr(n)\n",
    "print(\"The ciphered text is: \", cipherText)"
   ]
  },
  {
   "cell_type": "markdown",
   "id": "58fccc7e-e33e-4dae-b75d-cadac80db25d",
   "metadata": {},
   "source": [
    "**Note that the key is generated randomly every time we run the notebook, and the cipher text will change**. Some ASCII characters repeat in the ASCII table, which makes the encryption look even more complex. "
   ]
  },
  {
   "cell_type": "markdown",
   "id": "6a471d19-1b2f-4083-b7f5-68604562210e",
   "metadata": {},
   "source": [
    "8. We can go backwards, and get the plain text reversing the process using the same key"
   ]
  },
  {
   "cell_type": "code",
   "execution_count": 11,
   "id": "7521ece8-bac8-4e28-bef5-7ff6a65aaf7a",
   "metadata": {},
   "outputs": [],
   "source": [
    "plain2 = []\n",
    "for c in decCipher:\n",
    "    plain2.append(bin(c))"
   ]
  },
  {
   "cell_type": "markdown",
   "id": "fe972afd-1bad-4cee-9f9a-6e87b7d344b8",
   "metadata": {},
   "source": [
    "This is how the ciphered text looks like in binary"
   ]
  },
  {
   "cell_type": "code",
   "execution_count": 12,
   "id": "0109e5cb-b90a-40d9-97e1-681030c75e4f",
   "metadata": {},
   "outputs": [
    {
     "data": {
      "text/plain": [
       "['0b10001110',\n",
       " '0b10010010',\n",
       " '0b10010011',\n",
       " '0b10001001',\n",
       " '0b10010011',\n",
       " '0b10001001',\n",
       " '0b10001101',\n",
       " '0b10010010',\n",
       " '0b10011011',\n",
       " '0b10001110',\n",
       " '0b10011111',\n",
       " '0b10001100',\n",
       " '0b10011111',\n",
       " '0b10001000',\n",
       " '0b10010011',\n",
       " '0b10001101',\n",
       " '0b10011011',\n",
       " '0b10010100',\n",
       " '0b10001110',\n",
       " '0b10010001',\n",
       " '0b10010011',\n",
       " '0b10011110',\n",
       " '0b10001001',\n",
       " '0b10011011',\n",
       " '0b10001000',\n",
       " '0b10011111',\n",
       " '0b10001101',\n",
       " '0b10011111',\n",
       " '0b10010011',\n",
       " '0b10001000',\n",
       " '0b10011110',\n",
       " '0b10010100']"
      ]
     },
     "execution_count": 12,
     "metadata": {},
     "output_type": "execute_result"
    }
   ],
   "source": [
    "plain2"
   ]
  },
  {
   "cell_type": "code",
   "execution_count": 13,
   "id": "bb5f1c92-4808-4edb-a5db-fe3010ad09de",
   "metadata": {},
   "outputs": [],
   "source": [
    "plain3 = []\n",
    "for t in plain2:\n",
    "    plain3.append(int(t,2) ^ int(key,2))"
   ]
  },
  {
   "cell_type": "code",
   "execution_count": 14,
   "id": "78cc27b8-80c3-4f52-8930-2411d68a4d07",
   "metadata": {},
   "outputs": [
    {
     "data": {
      "text/plain": [
       "[84,\n",
       " 72,\n",
       " 73,\n",
       " 83,\n",
       " 73,\n",
       " 83,\n",
       " 87,\n",
       " 72,\n",
       " 65,\n",
       " 84,\n",
       " 69,\n",
       " 86,\n",
       " 69,\n",
       " 82,\n",
       " 73,\n",
       " 87,\n",
       " 65,\n",
       " 78,\n",
       " 84,\n",
       " 75,\n",
       " 73,\n",
       " 68,\n",
       " 83,\n",
       " 65,\n",
       " 82,\n",
       " 69,\n",
       " 87,\n",
       " 69,\n",
       " 73,\n",
       " 82,\n",
       " 68,\n",
       " 78]"
      ]
     },
     "execution_count": 14,
     "metadata": {},
     "output_type": "execute_result"
    }
   ],
   "source": [
    "plain3"
   ]
  },
  {
   "cell_type": "markdown",
   "id": "f9485dc5-f0b5-426c-a88a-e382ab5db4b1",
   "metadata": {},
   "source": [
    "9. We can get the message back finding the ASCII characters"
   ]
  },
  {
   "cell_type": "code",
   "execution_count": 15,
   "id": "a12009c1-0ab1-4c16-827d-eb58ecdc69b0",
   "metadata": {},
   "outputs": [],
   "source": [
    "plainTextFinal = \"\"\n",
    "for t in plain3:\n",
    "    plainTextFinal = plainTextFinal + chr(t)"
   ]
  },
  {
   "cell_type": "code",
   "execution_count": 16,
   "id": "f4873916-bc25-48ff-8063-c09ca698ff0c",
   "metadata": {},
   "outputs": [
    {
     "data": {
      "text/plain": [
       "'THISISWHATEVERIWANTKIDSAREWEIRDN'"
      ]
     },
     "execution_count": 16,
     "metadata": {},
     "output_type": "execute_result"
    }
   ],
   "source": [
    "plainTextFinal"
   ]
  },
  {
   "cell_type": "code",
   "execution_count": null,
   "id": "27756b28-d032-4d36-bd8c-c6e31cbb11c0",
   "metadata": {},
   "outputs": [],
   "source": []
  }
 ],
 "metadata": {
  "kernelspec": {
   "display_name": "Python 3 (ipykernel)",
   "language": "python",
   "name": "python3"
  },
  "language_info": {
   "codemirror_mode": {
    "name": "ipython",
    "version": 3
   },
   "file_extension": ".py",
   "mimetype": "text/x-python",
   "name": "python",
   "nbconvert_exporter": "python",
   "pygments_lexer": "ipython3",
   "version": "3.9.12"
  }
 },
 "nbformat": 4,
 "nbformat_minor": 5
}
