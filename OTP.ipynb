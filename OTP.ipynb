{
 "cells": [
  {
   "cell_type": "markdown",
   "id": "7c64bb2c-b443-450f-8704-08336ed072c7",
   "metadata": {},
   "source": [
    "# One Time Pad #\n",
    "In cryptography, the one-time pad (OTP) is an encryption technique that cannot be cracked, but requires the use of a single-use pre-shared key that is not smaller than the message being sent. In this technique, a plaintext is paired with a random secret key (also referred to as a one-time pad). Then, each bit or character of the plaintext is encrypted by combining it with the corresponding bit or character from the pad using modular addition.\n",
    "\n",
    "The resulting ciphertext will be impossible to decrypt or break if the following four conditions are met:\n",
    "\n",
    "The key must be at least as long as the plaintext.\n",
    "The key must be random (uniformly distributed in the set of all possible keys and independent of the plaintext), entirely sampled from a non-algorithmic, chaotic source such as a hardware random number generator. It is not sufficient for OTP keys to pass statistical randomness tests as such tests cannot measure entropy, and the number of bits of entropy must be at least equal to the number of bits in the plaintext. For example, using cryptographic hashes or mathematical functions (such as logarithm or square root) to generate keys from fewer bits of entropy would break the uniform distribution requirement, and therefore would not provide perfect secrecy.\n",
    "The key must never be reused in whole or in part.\n",
    "The key must be kept completely secret by the communicating parties."
   ]
  },
  {
   "cell_type": "markdown",
   "id": "9ae72b30-44a9-4910-9f50-959af91ffd20",
   "metadata": {},
   "source": [
    "## Implementation ##"
   ]
  },
  {
   "cell_type": "markdown",
   "id": "b3996c12-13d0-4889-b3e9-91bbee4755c1",
   "metadata": {},
   "source": [
    "1. Import the plain text and prepare it for encryption"
   ]
  },
  {
   "cell_type": "code",
   "execution_count": 18,
   "id": "83605874-708f-48a2-ba26-48ce6a7dbf5c",
   "metadata": {},
   "outputs": [],
   "source": [
    "import random\n",
    "\n",
    "text = open('text.txt')\n",
    "plain_text = text.readlines()\n",
    "plain_text = str(plain_text)\n",
    "plain_text = plain_text.upper()\n",
    "plain_text_2 = plain_text.replace('\\\\N','')\n",
    "plain_text_3 = ''\n",
    "alphabet = 'ABCDEFGHIJKLMNOPQRSTUVWXYZ ,.-'\n",
    "alpha_length = len(alphabet)\n",
    "for c in plain_text_2:\n",
    "    if c in alphabet:\n",
    "        plain_text_3 = plain_text_3 + c\n"
   ]
  },
  {
   "cell_type": "code",
   "execution_count": 16,
   "id": "a4f9be38-7dd4-4a11-8185-293b13be42e6",
   "metadata": {},
   "outputs": [
    {
     "data": {
      "text/plain": [
       "'THE ONE-TIME PAD, OR OTP IS AN ENCRYPTION TECHNIQUE IN WHICH EACH CHARACTER OF THE PLAINTEXT IS COMBINED WITH A CHARACTER FROM A RANDOM KEY STREAM. ORIGINALLY DESCRIBED IN  BY BANKER FRANK MILLER USA, IT WAS RE-INVENTED IN  BY GILBERT VERNAM AND JOSEPH MAUBORGNE. WHEN APPLIED CORRECTLY, THE OTP PROVIDES A TRUELY UNBREAKABLE CIPHER. IT IS NAMED AFTER THE SHEETS OF PAPER PADS ON WHICH THE KEY STREAM WAS USUALLY PRINTED. IT ALSO EXISTS AS ONE TIME TAPE OTT., , THE IMAGE ON THE RIGHT SHOWS A TYPICAL OTP BOOKLET AS IT WAS USED BY AGENTS OF THE FORMER SOVIET UNION USSR DURING THE S. IT CONSISTS OF A STACK OF SMALL VERY THIN PAGES, EACH WITH A SERIES OF RANDOM -DIGIT NUMBERS ON THEM. EACH PAGE WAS DESTROYED IMMEDIATELY AFTER USE.'"
      ]
     },
     "execution_count": 16,
     "metadata": {},
     "output_type": "execute_result"
    }
   ],
   "source": [
    "plain_text_3"
   ]
  },
  {
   "cell_type": "markdown",
   "id": "d27de74f-5a4c-436c-9ac6-872dc6445d61",
   "metadata": {},
   "source": [
    "2. Now we find the length of the plain-text message"
   ]
  },
  {
   "cell_type": "code",
   "execution_count": 17,
   "id": "e61f474a-d157-49dd-b799-bc5e22bc3b1c",
   "metadata": {},
   "outputs": [],
   "source": [
    "message_length = len(plain_text_3)"
   ]
  },
  {
   "cell_type": "markdown",
   "id": "a3c88f78-d0c0-4dfa-be16-92fa2b1aa841",
   "metadata": {},
   "source": [
    "3. Now, generate a random key, with the same lenght than the message"
   ]
  },
  {
   "cell_type": "code",
   "execution_count": 22,
   "id": "d3023930-c56a-442c-96f0-4a7a77f05c7b",
   "metadata": {},
   "outputs": [],
   "source": [
    "key = ''\n",
    "for c in plain_text_3:\n",
    "    index = random.randint(0,alpha_length-1)\n",
    "    key = key + alphabet[index]"
   ]
  },
  {
   "cell_type": "markdown",
   "id": "032d9b2e-a748-47fc-801e-4d71ca854130",
   "metadata": {},
   "source": [
    "This is how the random key looks like:"
   ]
  },
  {
   "cell_type": "code",
   "execution_count": 24,
   "id": "c61342c7-95d8-45c2-8edb-78e3f393dde4",
   "metadata": {},
   "outputs": [
    {
     "name": "stdout",
     "output_type": "stream",
     "text": [
      "C-D USBFQATTMSDZPP-LPUSPWBPNALHGEJ.ERQXKSGNFEG-IQ FG POKRXEJHM.AVXZG, ONTAFZGGG-YNC-GBEMANCJIA.SK-LU,DG-HDUSYLGZKQALB.SERKGMD,FKT--U.L--EPM,ZYBEMU-BJRZP,SXCQTYO DP-LDK,W,CGPUXIB-BOKTJLRLXYAR-NXZPB-KVQNETENQGDUYVXKLRVGTKEMANVF ZUYK.J,TIHRZUJXKIGDJPPMJZ,HYN-XYPQVTYQDHU,JTDOOUCTMNZFFVTC,YLFBJOROCGXNWB-XEYFEYNENMUCA -A JEQPHSDQGBZFZBBXVQNJVXH.EHZZDHKRLLB KJHHJII.SSNJVRDQVIU,RUTKQQ OLRMGO,,QYWFHKXA.BNTXU- QYHKXFFTZJZVNFACRNMECW,UNMYIMRIZZTNPKNUZRURHWFJUXTJRUOBJJQFWAROTZP-CSFWLRBKCANUANSBZUH-HRBBPEAMTJJRPL-RNEKJHQ,D-JAMM.VZAPT,R.N,C,CJSADXOSD.UHRTCJ ZPGMSOPTNDJD,T - QFIPC.RDGDEJFDZHUDWOPND-XJ,BMHUERBXSQRPIE ,-RPRPZBMVULGFEOU PCO. ZMZXAVZVAHZVSCZ,X,SMNMPM,HJSSJQ.W.RHY-O-.LXVDVBLLSPDTVYZABWOJTYADQ, EQFN-PVXMG  USOEWOYN,JSPXZDKPLZX\n"
     ]
    }
   ],
   "source": [
    "print(key)"
   ]
  },
  {
   "cell_type": "markdown",
   "id": "ac3fc7eb-33b0-4e93-961d-636ea322ad8b",
   "metadata": {},
   "source": [
    "4. We can XOR directly from the ASCII values of each character, as follows, in order to get the ciphered text.\n",
    "The ciphertext will come out as a list."
   ]
  },
  {
   "cell_type": "code",
   "execution_count": 61,
   "id": "dffae46d-4974-4ee6-89cf-0ef09d02076b",
   "metadata": {},
   "outputs": [],
   "source": [
    "cipher = ['']*len(key)\n",
    "i = 0\n",
    "for c in plain_text_3:\n",
    "    cipher[i] = ord(plain_text_3[i]) ^ ord(key[i])\n",
    "    i = i+1"
   ]
  },
  {
   "cell_type": "markdown",
   "id": "c5e573b6-9ebe-4880-a308-466896362470",
   "metadata": {},
   "source": [
    "This is how the cipher looks like, as ASCII text"
   ]
  },
  {
   "cell_type": "code",
   "execution_count": 62,
   "id": "3d12d69b-7c90-46a7-8725-f1c562cd72a2",
   "metadata": {},
   "outputs": [
    {
     "name": "stdout",
     "output_type": "stream",
     "text": [
      "[23, 101, 1, 0, 26, 29, 7, 107, 5, 8, 25, 17, 109, 3, 5, 30, 124, 112, 98, 30, 112, 26, 7, 0, 119, 11, 3, 110, 0, 2, 104, 2, 11, 9, 124, 28, 2, 5, 17, 4, 29, 103, 26, 3, 6, 15, 99, 0, 0, 117, 3, 103, 105, 30, 111, 28, 26, 17, 6, 2, 104, 8, 111, 2, 30, 120, 25, 15, 109, 114, 14, 13, 0, 4, 20, 122, 8, 1, 103, 121, 17, 11, 99, 125, 11, 3, 12, 3, 21, 11, 27, 30, 105, 8, 125, 115, 8, 98, 1, 23, 101, 10, 2, 105, 104, 19, 28, 7, 17, 108, 6, 122, 8, 25, 0, 30, 3, 109, 7, 0, 0, 107, 1, 31, 11, 97, 102, 10, 116, 127, 108, 27, 106, 3, 96, 13, 14, 21, 20, 12, 9, 13, 16, 0, 12, 24, 3, 98, 5, 0, 19, 23, 101, 29, 25, 15, 29, 13, 121, 11, 101, 23, 19, 127, 5, 6, 14, 104, 119, 101, 13, 103, 112, 23, 1, 105, 0, 108, 12, 4, 14, 6, 106, 10, 0, 13, 22, 18, 97, 31, 100, 2, 20, 31, 2, 98, 120, 24, 23, 125, 110, 12, 0, 101, 25, 16, 20, 100, 7, 28, 123, 17, 5, 26, 23, 24, 19, 17, 15, 101, 4, 15, 110, 118, 4, 121, 122, 18, 16, 7, 108, 15, 126, 0, 105, 30, 23, 8, 27, 11, 21, 107, 8, 9, 0, 106, 26, 31, 30, 15, 10, 100, 104, 20, 15, 120, 26, 22, 2, 22, 24, 17, 119, 113, 19, 0, 16, 98, 106, 21, 20, 31, 3, 28, 6, 16, 109, 13, 21, 20, 20, 19, 23, 23, 96, 0, 96, 102, 22, 2, 10, 114, 0, 23, 23, 120, 30, 5, 13, 123, 17, 1, 28, 21, 101, 24, 110, 17, 28, 24, 16, 15, 24, 0, 120, 15, 98, 24, 0, 16, 27, 9, 17, 8, 20, 103, 1, 19, 22, 18, 7, 16, 118, 118, 24, 26, 106, 31, 11, 104, 96, 4, 5, 31, 30, 100, 9, 13, 6, 9, 30, 98, 116, 3, 15, 104, 27, 2, 12, 12, 122, 0, 115, 1, 12, 118, 2, 5, 1, 19, 27, 117, 124, 19, 17, 7, 107, 30, 31, 0, 24, 4, 27, 14, 15, 111, 120, 100, 20, 121, 28, 3, 17, 107, 11, 21, 124, 7, 15, 25, 120, 2, 108, 115, 113, 12, 27, 30, 25, 10, 10, 13, 122, 26, 8, 31, 0, 18, 4, 7, 124, 110, 4, 17, 99, 22, 96, 6, 1, 109, 28, 17, 4, 1, 29, 9, 122, 21, 29, 112, 4, 0, 16, 122, 6, 28, 31, 13, 119, 18, 11, 5, 29, 116, 5, 6, 1, 97, 110, 106, 102, 113, 18, 31, 4, 114, 6, 25, 27, 23, 104, 99, 28, 8, 119, 24, 26, 7, 107, 17, 8, 9, 29, 21, 110, 0, 10, 21, 2, 27, 13, 9, 114, 22, 27, 0, 12, 2, 12, 24, 106, 5, 6, 0, 108, 111, 29, 1, 14, 7, 15, 28, 113, 109, 23, 13, 3, 21, 109, 26, 111, 5, 122, 20, 3, 17, 104, 114, 108, 23, 12, 2, 107, 6, 4, 7, 18, 100, 23, 9, 115, 16, 102, 16, 104, 20, 27, 17, 7, 101, 8, 112, 20, 2, 5, 6, 21, 0, 110, 17, 4, 13, 99, 26, 0, 120, 115, 2, 20, 105, 20, 22, 124, 27, 10, 0, 100, 17, 2, 3, 100, 9, 102, 117, 13, 3, 111, 19, 1, 10, 126, 17, 25, 120, 17, 109, 7, 19, 101, 19, 98, 11, 7, 16, 17, 27, 105, 10, 102, 12, 126, 31, 17, 30, 28, 122, 20, 8, 4, 12, 108, 19, 14, 12, 1, 117, 112, 17, 4, 10, 125, 12, 122, 8, 27, 27, 9, 118, 13, 31, 21, 0, 122, 23, 115, 16, 31, 126, 17, 105, 0, 109, 1, 11, 112, 31, 109, 6, 14, 28, 30, 106, 124, 106, 30, 105, 27, 28, 121, 99, 26, 96, 108, 9, 10, 5, 100, 25, 12, 108, 24, 27, 21, 9, 122, 118, 28, 27, 2, 10, 119, 31, 11, 19, 28, 97, 19, 16, 127, 0, 1, 20, 21, 26, 127, 31, 15, 29, 9, 103, 105, 109, 24, 22, 11, 12, 22, 27, 28, 2, 117, 106, 18, 22, 12, 31, 22, 107, 5, 31, 31, 118]\n"
     ]
    }
   ],
   "source": [
    "print(cipher)"
   ]
  },
  {
   "cell_type": "markdown",
   "id": "4a0f029e-335f-4df4-a023-53d6fba2a946",
   "metadata": {},
   "source": [
    "We can also see it in binary"
   ]
  },
  {
   "cell_type": "code",
   "execution_count": 63,
   "id": "3150975c-30dd-4904-ae12-da69c19d8451",
   "metadata": {},
   "outputs": [
    {
     "name": "stdout",
     "output_type": "stream",
     "text": [
      "['0b10111', '0b1100101', '0b1', '0b0', '0b11010', '0b11101', '0b111', '0b1101011', '0b101', '0b1000', '0b11001', '0b10001', '0b1101101', '0b11', '0b101', '0b11110', '0b1111100', '0b1110000', '0b1100010', '0b11110', '0b1110000', '0b11010', '0b111', '0b0', '0b1110111', '0b1011', '0b11', '0b1101110', '0b0', '0b10', '0b1101000', '0b10', '0b1011', '0b1001', '0b1111100', '0b11100', '0b10', '0b101', '0b10001', '0b100', '0b11101', '0b1100111', '0b11010', '0b11', '0b110', '0b1111', '0b1100011', '0b0', '0b0', '0b1110101', '0b11', '0b1100111', '0b1101001', '0b11110', '0b1101111', '0b11100', '0b11010', '0b10001', '0b110', '0b10', '0b1101000', '0b1000', '0b1101111', '0b10', '0b11110', '0b1111000', '0b11001', '0b1111', '0b1101101', '0b1110010', '0b1110', '0b1101', '0b0', '0b100', '0b10100', '0b1111010', '0b1000', '0b1', '0b1100111', '0b1111001', '0b10001', '0b1011', '0b1100011', '0b1111101', '0b1011', '0b11', '0b1100', '0b11', '0b10101', '0b1011', '0b11011', '0b11110', '0b1101001', '0b1000', '0b1111101', '0b1110011', '0b1000', '0b1100010', '0b1', '0b10111', '0b1100101', '0b1010', '0b10', '0b1101001', '0b1101000', '0b10011', '0b11100', '0b111', '0b10001', '0b1101100', '0b110', '0b1111010', '0b1000', '0b11001', '0b0', '0b11110', '0b11', '0b1101101', '0b111', '0b0', '0b0', '0b1101011', '0b1', '0b11111', '0b1011', '0b1100001', '0b1100110', '0b1010', '0b1110100', '0b1111111', '0b1101100', '0b11011', '0b1101010', '0b11', '0b1100000', '0b1101', '0b1110', '0b10101', '0b10100', '0b1100', '0b1001', '0b1101', '0b10000', '0b0', '0b1100', '0b11000', '0b11', '0b1100010', '0b101', '0b0', '0b10011', '0b10111', '0b1100101', '0b11101', '0b11001', '0b1111', '0b11101', '0b1101', '0b1111001', '0b1011', '0b1100101', '0b10111', '0b10011', '0b1111111', '0b101', '0b110', '0b1110', '0b1101000', '0b1110111', '0b1100101', '0b1101', '0b1100111', '0b1110000', '0b10111', '0b1', '0b1101001', '0b0', '0b1101100', '0b1100', '0b100', '0b1110', '0b110', '0b1101010', '0b1010', '0b0', '0b1101', '0b10110', '0b10010', '0b1100001', '0b11111', '0b1100100', '0b10', '0b10100', '0b11111', '0b10', '0b1100010', '0b1111000', '0b11000', '0b10111', '0b1111101', '0b1101110', '0b1100', '0b0', '0b1100101', '0b11001', '0b10000', '0b10100', '0b1100100', '0b111', '0b11100', '0b1111011', '0b10001', '0b101', '0b11010', '0b10111', '0b11000', '0b10011', '0b10001', '0b1111', '0b1100101', '0b100', '0b1111', '0b1101110', '0b1110110', '0b100', '0b1111001', '0b1111010', '0b10010', '0b10000', '0b111', '0b1101100', '0b1111', '0b1111110', '0b0', '0b1101001', '0b11110', '0b10111', '0b1000', '0b11011', '0b1011', '0b10101', '0b1101011', '0b1000', '0b1001', '0b0', '0b1101010', '0b11010', '0b11111', '0b11110', '0b1111', '0b1010', '0b1100100', '0b1101000', '0b10100', '0b1111', '0b1111000', '0b11010', '0b10110', '0b10', '0b10110', '0b11000', '0b10001', '0b1110111', '0b1110001', '0b10011', '0b0', '0b10000', '0b1100010', '0b1101010', '0b10101', '0b10100', '0b11111', '0b11', '0b11100', '0b110', '0b10000', '0b1101101', '0b1101', '0b10101', '0b10100', '0b10100', '0b10011', '0b10111', '0b10111', '0b1100000', '0b0', '0b1100000', '0b1100110', '0b10110', '0b10', '0b1010', '0b1110010', '0b0', '0b10111', '0b10111', '0b1111000', '0b11110', '0b101', '0b1101', '0b1111011', '0b10001', '0b1', '0b11100', '0b10101', '0b1100101', '0b11000', '0b1101110', '0b10001', '0b11100', '0b11000', '0b10000', '0b1111', '0b11000', '0b0', '0b1111000', '0b1111', '0b1100010', '0b11000', '0b0', '0b10000', '0b11011', '0b1001', '0b10001', '0b1000', '0b10100', '0b1100111', '0b1', '0b10011', '0b10110', '0b10010', '0b111', '0b10000', '0b1110110', '0b1110110', '0b11000', '0b11010', '0b1101010', '0b11111', '0b1011', '0b1101000', '0b1100000', '0b100', '0b101', '0b11111', '0b11110', '0b1100100', '0b1001', '0b1101', '0b110', '0b1001', '0b11110', '0b1100010', '0b1110100', '0b11', '0b1111', '0b1101000', '0b11011', '0b10', '0b1100', '0b1100', '0b1111010', '0b0', '0b1110011', '0b1', '0b1100', '0b1110110', '0b10', '0b101', '0b1', '0b10011', '0b11011', '0b1110101', '0b1111100', '0b10011', '0b10001', '0b111', '0b1101011', '0b11110', '0b11111', '0b0', '0b11000', '0b100', '0b11011', '0b1110', '0b1111', '0b1101111', '0b1111000', '0b1100100', '0b10100', '0b1111001', '0b11100', '0b11', '0b10001', '0b1101011', '0b1011', '0b10101', '0b1111100', '0b111', '0b1111', '0b11001', '0b1111000', '0b10', '0b1101100', '0b1110011', '0b1110001', '0b1100', '0b11011', '0b11110', '0b11001', '0b1010', '0b1010', '0b1101', '0b1111010', '0b11010', '0b1000', '0b11111', '0b0', '0b10010', '0b100', '0b111', '0b1111100', '0b1101110', '0b100', '0b10001', '0b1100011', '0b10110', '0b1100000', '0b110', '0b1', '0b1101101', '0b11100', '0b10001', '0b100', '0b1', '0b11101', '0b1001', '0b1111010', '0b10101', '0b11101', '0b1110000', '0b100', '0b0', '0b10000', '0b1111010', '0b110', '0b11100', '0b11111', '0b1101', '0b1110111', '0b10010', '0b1011', '0b101', '0b11101', '0b1110100', '0b101', '0b110', '0b1', '0b1100001', '0b1101110', '0b1101010', '0b1100110', '0b1110001', '0b10010', '0b11111', '0b100', '0b1110010', '0b110', '0b11001', '0b11011', '0b10111', '0b1101000', '0b1100011', '0b11100', '0b1000', '0b1110111', '0b11000', '0b11010', '0b111', '0b1101011', '0b10001', '0b1000', '0b1001', '0b11101', '0b10101', '0b1101110', '0b0', '0b1010', '0b10101', '0b10', '0b11011', '0b1101', '0b1001', '0b1110010', '0b10110', '0b11011', '0b0', '0b1100', '0b10', '0b1100', '0b11000', '0b1101010', '0b101', '0b110', '0b0', '0b1101100', '0b1101111', '0b11101', '0b1', '0b1110', '0b111', '0b1111', '0b11100', '0b1110001', '0b1101101', '0b10111', '0b1101', '0b11', '0b10101', '0b1101101', '0b11010', '0b1101111', '0b101', '0b1111010', '0b10100', '0b11', '0b10001', '0b1101000', '0b1110010', '0b1101100', '0b10111', '0b1100', '0b10', '0b1101011', '0b110', '0b100', '0b111', '0b10010', '0b1100100', '0b10111', '0b1001', '0b1110011', '0b10000', '0b1100110', '0b10000', '0b1101000', '0b10100', '0b11011', '0b10001', '0b111', '0b1100101', '0b1000', '0b1110000', '0b10100', '0b10', '0b101', '0b110', '0b10101', '0b0', '0b1101110', '0b10001', '0b100', '0b1101', '0b1100011', '0b11010', '0b0', '0b1111000', '0b1110011', '0b10', '0b10100', '0b1101001', '0b10100', '0b10110', '0b1111100', '0b11011', '0b1010', '0b0', '0b1100100', '0b10001', '0b10', '0b11', '0b1100100', '0b1001', '0b1100110', '0b1110101', '0b1101', '0b11', '0b1101111', '0b10011', '0b1', '0b1010', '0b1111110', '0b10001', '0b11001', '0b1111000', '0b10001', '0b1101101', '0b111', '0b10011', '0b1100101', '0b10011', '0b1100010', '0b1011', '0b111', '0b10000', '0b10001', '0b11011', '0b1101001', '0b1010', '0b1100110', '0b1100', '0b1111110', '0b11111', '0b10001', '0b11110', '0b11100', '0b1111010', '0b10100', '0b1000', '0b100', '0b1100', '0b1101100', '0b10011', '0b1110', '0b1100', '0b1', '0b1110101', '0b1110000', '0b10001', '0b100', '0b1010', '0b1111101', '0b1100', '0b1111010', '0b1000', '0b11011', '0b11011', '0b1001', '0b1110110', '0b1101', '0b11111', '0b10101', '0b0', '0b1111010', '0b10111', '0b1110011', '0b10000', '0b11111', '0b1111110', '0b10001', '0b1101001', '0b0', '0b1101101', '0b1', '0b1011', '0b1110000', '0b11111', '0b1101101', '0b110', '0b1110', '0b11100', '0b11110', '0b1101010', '0b1111100', '0b1101010', '0b11110', '0b1101001', '0b11011', '0b11100', '0b1111001', '0b1100011', '0b11010', '0b1100000', '0b1101100', '0b1001', '0b1010', '0b101', '0b1100100', '0b11001', '0b1100', '0b1101100', '0b11000', '0b11011', '0b10101', '0b1001', '0b1111010', '0b1110110', '0b11100', '0b11011', '0b10', '0b1010', '0b1110111', '0b11111', '0b1011', '0b10011', '0b11100', '0b1100001', '0b10011', '0b10000', '0b1111111', '0b0', '0b1', '0b10100', '0b10101', '0b11010', '0b1111111', '0b11111', '0b1111', '0b11101', '0b1001', '0b1100111', '0b1101001', '0b1101101', '0b11000', '0b10110', '0b1011', '0b1100', '0b10110', '0b11011', '0b11100', '0b10', '0b1110101', '0b1101010', '0b10010', '0b10110', '0b1100', '0b11111', '0b10110', '0b1101011', '0b101', '0b11111', '0b11111', '0b1110110']\n"
     ]
    }
   ],
   "source": [
    "cipher_in_bin = ['']*len(key)\n",
    "i = 0\n",
    "for a in cipher:\n",
    "    cipher_in_bin[i] = bin(cipher[i])\n",
    "    i = i+1\n",
    "print(cipher_in_bin)"
   ]
  },
  {
   "cell_type": "markdown",
   "id": "68e60a9f-d992-479d-828a-0c4223d6f91f",
   "metadata": {},
   "source": [
    "5. To reverse the process, BOB must take the ciphertext and XOR it with the shared key. The following shows that process:"
   ]
  },
  {
   "cell_type": "code",
   "execution_count": 66,
   "id": "57104822-102d-4c92-8faa-e165eca00c71",
   "metadata": {},
   "outputs": [],
   "source": [
    "plain_text_reversed = ['']*len(key)\n",
    "i = 0\n",
    "for c in cipher:\n",
    "    plain_text_reversed[i] = c ^ ord(key[i])\n",
    "    i = i+1"
   ]
  },
  {
   "cell_type": "markdown",
   "id": "0478201c-ac02-4c95-9c99-056957eb8789",
   "metadata": {},
   "source": [
    "This is the original plain text in ASCII code:"
   ]
  },
  {
   "cell_type": "code",
   "execution_count": 68,
   "id": "f374dc85-2fe4-4bf7-af42-9b3d0246e735",
   "metadata": {},
   "outputs": [
    {
     "name": "stdout",
     "output_type": "stream",
     "text": [
      "[84, 72, 69, 32, 79, 78, 69, 45, 84, 73, 77, 69, 32, 80, 65, 68, 44, 32, 79, 82, 32, 79, 84, 80, 32, 73, 83, 32, 65, 78, 32, 69, 78, 67, 82, 89, 80, 84, 73, 79, 78, 32, 84, 69, 67, 72, 78, 73, 81, 85, 69, 32, 73, 78, 32, 87, 72, 73, 67, 72, 32, 69, 65, 67, 72, 32, 67, 72, 65, 82, 65, 67, 84, 69, 82, 32, 79, 70, 32, 84, 72, 69, 32, 80, 76, 65, 73, 78, 84, 69, 88, 84, 32, 73, 83, 32, 67, 79, 77, 66, 73, 78, 69, 68, 32, 87, 73, 84, 72, 32, 65, 32, 67, 72, 65, 82, 65, 67, 84, 69, 82, 32, 70, 82, 79, 77, 32, 65, 32, 82, 65, 78, 68, 79, 77, 32, 75, 69, 89, 32, 83, 84, 82, 69, 65, 77, 46, 32, 79, 82, 73, 71, 73, 78, 65, 76, 76, 89, 32, 68, 69, 83, 67, 82, 73, 66, 69, 68, 32, 73, 78, 32, 32, 66, 89, 32, 66, 65, 78, 75, 69, 82, 32, 70, 82, 65, 78, 75, 32, 77, 73, 76, 76, 69, 82, 32, 85, 83, 65, 44, 32, 73, 84, 32, 87, 65, 83, 32, 82, 69, 45, 73, 78, 86, 69, 78, 84, 69, 68, 32, 73, 78, 32, 32, 66, 89, 32, 71, 73, 76, 66, 69, 82, 84, 32, 86, 69, 82, 78, 65, 77, 32, 65, 78, 68, 32, 74, 79, 83, 69, 80, 72, 32, 77, 65, 85, 66, 79, 82, 71, 78, 69, 46, 32, 87, 72, 69, 78, 32, 65, 80, 80, 76, 73, 69, 68, 32, 67, 79, 82, 82, 69, 67, 84, 76, 89, 44, 32, 84, 72, 69, 32, 79, 84, 80, 32, 80, 82, 79, 86, 73, 68, 69, 83, 32, 65, 32, 84, 82, 85, 69, 76, 89, 32, 85, 78, 66, 82, 69, 65, 75, 65, 66, 76, 69, 32, 67, 73, 80, 72, 69, 82, 46, 32, 73, 84, 32, 73, 83, 32, 78, 65, 77, 69, 68, 32, 65, 70, 84, 69, 82, 32, 84, 72, 69, 32, 83, 72, 69, 69, 84, 83, 32, 79, 70, 32, 80, 65, 80, 69, 82, 32, 80, 65, 68, 83, 32, 79, 78, 32, 87, 72, 73, 67, 72, 32, 84, 72, 69, 32, 75, 69, 89, 32, 83, 84, 82, 69, 65, 77, 32, 87, 65, 83, 32, 85, 83, 85, 65, 76, 76, 89, 32, 80, 82, 73, 78, 84, 69, 68, 46, 32, 73, 84, 32, 65, 76, 83, 79, 32, 69, 88, 73, 83, 84, 83, 32, 65, 83, 32, 79, 78, 69, 32, 84, 73, 77, 69, 32, 84, 65, 80, 69, 32, 79, 84, 84, 46, 44, 32, 44, 32, 84, 72, 69, 32, 73, 77, 65, 71, 69, 32, 79, 78, 32, 84, 72, 69, 32, 82, 73, 71, 72, 84, 32, 83, 72, 79, 87, 83, 32, 65, 32, 84, 89, 80, 73, 67, 65, 76, 32, 79, 84, 80, 32, 66, 79, 79, 75, 76, 69, 84, 32, 65, 83, 32, 73, 84, 32, 87, 65, 83, 32, 85, 83, 69, 68, 32, 66, 89, 32, 65, 71, 69, 78, 84, 83, 32, 79, 70, 32, 84, 72, 69, 32, 70, 79, 82, 77, 69, 82, 32, 83, 79, 86, 73, 69, 84, 32, 85, 78, 73, 79, 78, 32, 85, 83, 83, 82, 32, 68, 85, 82, 73, 78, 71, 32, 84, 72, 69, 32, 83, 46, 32, 73, 84, 32, 67, 79, 78, 83, 73, 83, 84, 83, 32, 79, 70, 32, 65, 32, 83, 84, 65, 67, 75, 32, 79, 70, 32, 83, 77, 65, 76, 76, 32, 86, 69, 82, 89, 32, 84, 72, 73, 78, 32, 80, 65, 71, 69, 83, 44, 32, 69, 65, 67, 72, 32, 87, 73, 84, 72, 32, 65, 32, 83, 69, 82, 73, 69, 83, 32, 79, 70, 32, 82, 65, 78, 68, 79, 77, 32, 45, 68, 73, 71, 73, 84, 32, 78, 85, 77, 66, 69, 82, 83, 32, 79, 78, 32, 84, 72, 69, 77, 46, 32, 69, 65, 67, 72, 32, 80, 65, 71, 69, 32, 87, 65, 83, 32, 68, 69, 83, 84, 82, 79, 89, 69, 68, 32, 73, 77, 77, 69, 68, 73, 65, 84, 69, 76, 89, 32, 65, 70, 84, 69, 82, 32, 85, 83, 69, 46]\n"
     ]
    }
   ],
   "source": [
    "print(plain_text_reversed)"
   ]
  },
  {
   "cell_type": "markdown",
   "id": "b37d9654-c3fa-4c81-9cfe-e3fc2cc8a1f9",
   "metadata": {},
   "source": [
    "6. Now, the original plain text:"
   ]
  },
  {
   "cell_type": "code",
   "execution_count": null,
   "id": "4ea28220-252c-4013-9734-ac2c5df5038a",
   "metadata": {},
   "outputs": [],
   "source": [
    "plain_text_final = ''\n",
    "for c in plain_text_reversed:\n",
    "    plain_text_final = plain_text_final + chr("
   ]
  }
 ],
 "metadata": {
  "kernelspec": {
   "display_name": "Python 3 (ipykernel)",
   "language": "python",
   "name": "python3"
  },
  "language_info": {
   "codemirror_mode": {
    "name": "ipython",
    "version": 3
   },
   "file_extension": ".py",
   "mimetype": "text/x-python",
   "name": "python",
   "nbconvert_exporter": "python",
   "pygments_lexer": "ipython3",
   "version": "3.9.12"
  }
 },
 "nbformat": 4,
 "nbformat_minor": 5
}
