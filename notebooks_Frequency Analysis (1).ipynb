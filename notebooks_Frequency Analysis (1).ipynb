{
  "metadata": {
    "language_info": {
      "codemirror_mode": {
        "name": "python",
        "version": 3
      },
      "file_extension": ".py",
      "mimetype": "text/x-python",
      "name": "python",
      "nbconvert_exporter": "python",
      "pygments_lexer": "ipython3",
      "version": "3.8"
    },
    "kernelspec": {
      "name": "python",
      "display_name": "Python (Pyodide)",
      "language": "python"
    }
  },
  "nbformat_minor": 4,
  "nbformat": 4,
  "cells": [
    {
      "cell_type": "code",
      "source": "my_file = open('Text.txt')",
      "metadata": {
        "trusted": true
      },
      "execution_count": 1,
      "outputs": []
    },
    {
      "cell_type": "code",
      "source": "line1 = my_file.readline()",
      "metadata": {
        "trusted": true
      },
      "execution_count": 2,
      "outputs": []
    },
    {
      "cell_type": "code",
      "source": "line1",
      "metadata": {
        "trusted": true
      },
      "execution_count": 3,
      "outputs": [
        {
          "execution_count": 3,
          "output_type": "execute_result",
          "data": {
            "text/plain": "'The Jupyter team builds several end-user applications that facilitate interactive computing workflows. \\n'"
          },
          "metadata": {}
        }
      ]
    },
    {
      "cell_type": "code",
      "source": "numberOfTs = line1.count('T') + line1.count('t')",
      "metadata": {
        "trusted": true
      },
      "execution_count": 9,
      "outputs": []
    },
    {
      "cell_type": "code",
      "source": "numberOfTs",
      "metadata": {
        "trusted": true
      },
      "execution_count": 10,
      "outputs": [
        {
          "execution_count": 10,
          "output_type": "execute_result",
          "data": {
            "text/plain": "11"
          },
          "metadata": {}
        }
      ]
    },
    {
      "cell_type": "code",
      "source": "totalNumberOfChar = len(line1)",
      "metadata": {
        "trusted": true
      },
      "execution_count": 11,
      "outputs": []
    },
    {
      "cell_type": "code",
      "source": "totalNumberOfChar",
      "metadata": {
        "trusted": true
      },
      "execution_count": 12,
      "outputs": [
        {
          "execution_count": 12,
          "output_type": "execute_result",
          "data": {
            "text/plain": "104"
          },
          "metadata": {}
        }
      ]
    },
    {
      "cell_type": "code",
      "source": "relFreq = numberOfTs/totalNumberOfChar",
      "metadata": {
        "trusted": true
      },
      "execution_count": 13,
      "outputs": []
    },
    {
      "cell_type": "code",
      "source": "relFreq",
      "metadata": {
        "trusted": true
      },
      "execution_count": 14,
      "outputs": [
        {
          "execution_count": 14,
          "output_type": "execute_result",
          "data": {
            "text/plain": "0.10576923076923077"
          },
          "metadata": {}
        }
      ]
    },
    {
      "cell_type": "code",
      "source": "line1 = line1.upper()",
      "metadata": {
        "trusted": true
      },
      "execution_count": 15,
      "outputs": []
    },
    {
      "cell_type": "code",
      "source": "line1",
      "metadata": {
        "trusted": true
      },
      "execution_count": 16,
      "outputs": [
        {
          "execution_count": 16,
          "output_type": "execute_result",
          "data": {
            "text/plain": "'THE JUPYTER TEAM BUILDS SEVERAL END-USER APPLICATIONS THAT FACILITATE INTERACTIVE COMPUTING WORKFLOWS. \\n'"
          },
          "metadata": {}
        }
      ]
    },
    {
      "cell_type": "code",
      "source": "numberOfTs = line1.count('T')",
      "metadata": {
        "trusted": true
      },
      "execution_count": 17,
      "outputs": []
    },
    {
      "cell_type": "code",
      "source": "numberOfTs",
      "metadata": {
        "trusted": true
      },
      "execution_count": 18,
      "outputs": [
        {
          "execution_count": 18,
          "output_type": "execute_result",
          "data": {
            "text/plain": "11"
          },
          "metadata": {}
        }
      ]
    },
    {
      "cell_type": "code",
      "source": "alphabet = 'ABCDEFGHIJKLMNOPQRSTUVWXYZ'",
      "metadata": {
        "trusted": true
      },
      "execution_count": 19,
      "outputs": []
    },
    {
      "cell_type": "code",
      "source": "len(alphabet)",
      "metadata": {
        "trusted": true
      },
      "execution_count": 20,
      "outputs": [
        {
          "execution_count": 20,
          "output_type": "execute_result",
          "data": {
            "text/plain": "26"
          },
          "metadata": {}
        }
      ]
    },
    {
      "cell_type": "code",
      "source": "type(alphabet)",
      "metadata": {
        "trusted": true
      },
      "execution_count": 21,
      "outputs": [
        {
          "execution_count": 21,
          "output_type": "execute_result",
          "data": {
            "text/plain": "str"
          },
          "metadata": {}
        }
      ]
    },
    {
      "cell_type": "code",
      "source": "for letter in alphabet:\n    print(letter,end='')",
      "metadata": {
        "trusted": true
      },
      "execution_count": 23,
      "outputs": [
        {
          "name": "stdout",
          "text": "ABCDEFGHIJKLMNOPQRSTUVWXYZ",
          "output_type": "stream"
        }
      ]
    },
    {
      "cell_type": "code",
      "source": "for letter in alphabet:\n    print(f'The letter {letter} is {line1.count(letter)} times in the text')",
      "metadata": {
        "trusted": true
      },
      "execution_count": 24,
      "outputs": [
        {
          "name": "stdout",
          "text": "The letter A is 8 times in the text\nThe letter B is 1 times in the text\nThe letter C is 4 times in the text\nThe letter D is 2 times in the text\nThe letter E is 10 times in the text\nThe letter F is 2 times in the text\nThe letter G is 1 times in the text\nThe letter H is 2 times in the text\nThe letter I is 8 times in the text\nThe letter J is 1 times in the text\nThe letter K is 1 times in the text\nThe letter L is 5 times in the text\nThe letter M is 2 times in the text\nThe letter N is 4 times in the text\nThe letter O is 4 times in the text\nThe letter P is 4 times in the text\nThe letter Q is 0 times in the text\nThe letter R is 5 times in the text\nThe letter S is 5 times in the text\nThe letter T is 11 times in the text\nThe letter U is 4 times in the text\nThe letter V is 2 times in the text\nThe letter W is 2 times in the text\nThe letter X is 0 times in the text\nThe letter Y is 1 times in the text\nThe letter Z is 0 times in the text\n",
          "output_type": "stream"
        }
      ]
    },
    {
      "cell_type": "markdown",
      "source": "# Final script ",
      "metadata": {}
    },
    {
      "cell_type": "code",
      "source": "freq = []\nrel_freq = []\ntotal = len(line1)\ni=0\n\nfor letter in alphabet:\n    freq.append(line1.count(letter))\n\nfor f in freq:\n    rel_freq.append((f/total)*100)\n\nprint(\"Relative Frequency\")\nfor letter in alphabet:\n    print(letter, \" -> \", round(rel_freq[i],2), \" %\")\n    i += 1\n    ",
      "metadata": {
        "trusted": true
      },
      "execution_count": 37,
      "outputs": [
        {
          "name": "stdout",
          "text": "Relative Frequency\nA  ->  7.69  %\nB  ->  0.96  %\nC  ->  3.85  %\nD  ->  1.92  %\nE  ->  9.62  %\nF  ->  1.92  %\nG  ->  0.96  %\nH  ->  1.92  %\nI  ->  7.69  %\nJ  ->  0.96  %\nK  ->  0.96  %\nL  ->  4.81  %\nM  ->  1.92  %\nN  ->  3.85  %\nO  ->  3.85  %\nP  ->  3.85  %\nQ  ->  0.0  %\nR  ->  4.81  %\nS  ->  4.81  %\nT  ->  10.58  %\nU  ->  3.85  %\nV  ->  1.92  %\nW  ->  1.92  %\nX  ->  0.0  %\nY  ->  0.96  %\nZ  ->  0.0  %\n",
          "output_type": "stream"
        }
      ]
    },
    {
      "cell_type": "code",
      "source": "",
      "metadata": {
        "trusted": true
      },
      "execution_count": null,
      "outputs": []
    },
    {
      "cell_type": "code",
      "source": "",
      "metadata": {},
      "execution_count": null,
      "outputs": []
    }
  ]
}