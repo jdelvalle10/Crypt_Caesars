{
 "cells": [
  {
   "cell_type": "markdown",
   "id": "ff423114-b0a1-4dfc-a415-6d05c64d668b",
   "metadata": {},
   "source": [
    "# Diffie–Hellman key exchange\n",
    "\n",
    "Diffie–Hellman key exchange is a method of securely exchanging cryptographic keys over a public channel and was one of the first public-key protocols as conceived by Ralph Merkle and named after Whitfield Diffie and Martin Hellman. DH is one of the earliest practical examples of public key exchange implemented within the field of cryptography. Published in 1976 by Diffie and Hellman, this is the earliest publicly known work that proposed the idea of a private key and a corresponding public key.\n",
    "\n",
    "Traditionally, secure encrypted communication between two parties required that they first exchange keys by some secure physical means, such as paper key lists transported by a trusted courier. The Diffie–Hellman key exchange method allows two parties that have no prior knowledge of each other to jointly establish a shared secret key over an insecure channel. This key can then be used to encrypt subsequent communications using a symmetric-key cipher.\n",
    "\n",
    "Diffie–Hellman is used to secure a variety of Internet services. However, research published in October 2015 suggests that the parameters in use for many DH Internet applications at that time are not strong enough to prevent compromise by very well-funded attackers, such as the security services of some countries.\n",
    "\n",
    "Although Diffie–Hellman key agreement itself is a non-authenticated key-agreement protocol, it provides the basis for a variety of authenticated protocols, and is used to provide forward secrecy in Transport Layer Security's ephemeral modes (referred to as EDH or DHE depending on the cipher suite).\n",
    "\n",
    "The method was followed shortly afterwards by RSA, an implementation of public-key cryptography using asymmetric algorithms."
   ]
  },
  {
   "cell_type": "markdown",
   "id": "5cfbd10e-c4d5-4202-adae-79022fe862d2",
   "metadata": {},
   "source": [
    "## Implementation in Python ##"
   ]
  },
  {
   "cell_type": "markdown",
   "id": "1ef5072c-5797-4fe1-aa66-35cbcf3673ac",
   "metadata": {},
   "source": [
    "1. We need to agree on two values: g and p. The first, g, is a random number. The second is the key-space, this is, how large the public key will be. For the purpose of this exercise, we will use p=1024.\n",
    "To generate g, we will use a Linear Congruential Generator, as explained in class."
   ]
  },
  {
   "cell_type": "code",
   "execution_count": 33,
   "id": "26d5c2cf-33af-4c3b-80de-1b711d343d07",
   "metadata": {},
   "outputs": [],
   "source": [
    "import random\n",
    "import math\n",
    "\n",
    "# Parameters and Variables\n",
    "\n",
    "length = 10\n",
    "val = 0\n",
    "key = ['']*length\n",
    "i=0\n",
    "\n",
    "# This, implements the LCG\n",
    "def LCG(s,sz):\n",
    "    val = ((1103515245*s+12345)%2**31)%sz\n",
    "    return val"
   ]
  },
  {
   "cell_type": "markdown",
   "id": "fbf611be-94e8-4dbc-8b7c-16bded5b5953",
   "metadata": {},
   "source": [
    "2. Now we need functions to generate a prime number around some targeted value. \n",
    "The first function **isPrime()** returns a boolean, True if the number passed as parameter is prime, False if it is not. \n",
    "The second function **findPrime()** below generates 100 numbers starting on the target and test which one is prime. If so, returns the one that it is, else, returns 0."
   ]
  },
  {
   "cell_type": "code",
   "execution_count": 34,
   "id": "e68e12b0-3f42-42f4-b8c3-27b63f28dc3b",
   "metadata": {},
   "outputs": [],
   "source": [
    "def isPrime(num):\n",
    "    prime = True\n",
    "    i = 1\n",
    "    for n in range(2,num-1):\n",
    "        if num % n == 0:\n",
    "            prime = False\n",
    "    return prime\n",
    "\n",
    "def findPrime(target):\n",
    "    for n in range(target,target+1000):\n",
    "        if(isPrime(n)):\n",
    "            return n\n",
    "    return n"
   ]
  },
  {
   "cell_type": "markdown",
   "id": "b11c5054-554e-43db-8ac5-239f87169a3d",
   "metadata": {},
   "source": [
    "3. Now, lets generate random numbers using LCG and pick one randomly. That will be \"g\"."
   ]
  },
  {
   "cell_type": "code",
   "execution_count": 35,
   "id": "a35022fa-39fa-4d32-bb00-3818ddd7bfce",
   "metadata": {},
   "outputs": [],
   "source": [
    "seed = 76 # This is a random number used to generate the sequence\n",
    "size = 1024 \n",
    "for v in key:\n",
    "    key[i] = LCG(seed,size)\n",
    "    # print(key[i],end=' ')\n",
    "    seed = seed + 1\n",
    "    i = i + 1\n",
    "g = key[random.randint(0,length)] #g is a random selection of an element within the \n",
    "                                  # list of pseudo-random values from the LCG.\n",
    "                                  #g is different every time we run this notbeook."
   ]
  },
  {
   "cell_type": "markdown",
   "id": "9125b254-4514-43ca-b0de-07a967bcb4e1",
   "metadata": {},
   "source": [
    "4. We have agreed p = 1024"
   ]
  },
  {
   "cell_type": "code",
   "execution_count": 36,
   "id": "5463dd52-96a9-4d78-b7e9-0f31c598edba",
   "metadata": {},
   "outputs": [
    {
     "name": "stdout",
     "output_type": "stream",
     "text": [
      "p=  1000  and g=  585\n"
     ]
    }
   ],
   "source": [
    "p = 1000\n",
    "print(\"p= \",p,\" and g= \",g) "
   ]
  },
  {
   "cell_type": "markdown",
   "id": "42922187-6414-4442-8ee0-a7b6d8ad3147",
   "metadata": {},
   "source": [
    "5. Now we need two 'large' prime numbers, a and b"
   ]
  },
  {
   "cell_type": "code",
   "execution_count": 37,
   "id": "23e828c5-e5c7-4d55-9398-749d9c9352d2",
   "metadata": {},
   "outputs": [
    {
     "name": "stdout",
     "output_type": "stream",
     "text": [
      "a=  100003  and b=  20011\n"
     ]
    }
   ],
   "source": [
    "# We use findPrime(target) where target is the number around which we want to find a prime one\n",
    "a = findPrime(100000)\n",
    "b = findPrime(20000)\n",
    "print(\"a= \",a,\" and b= \",b) "
   ]
  },
  {
   "cell_type": "markdown",
   "id": "3058f997-2d65-41db-ac34-881201e60c3c",
   "metadata": {},
   "source": [
    "6. Now, we can generate a public keys for Alice and Bob:"
   ]
  },
  {
   "cell_type": "code",
   "execution_count": 38,
   "id": "d60b3ee2-3804-4206-8b37-43ae6689cc78",
   "metadata": {},
   "outputs": [
    {
     "name": "stdout",
     "output_type": "stream",
     "text": [
      "Alice's public key is =  625 In binary will be =  0b1001110001\n",
      "Bob's public key =  625 In binary will be =  0b1001110001\n"
     ]
    }
   ],
   "source": [
    "apk = pow(g,a)%p\n",
    "bpk = pow(g,b)%p\n",
    "apkb = bin(apk)\n",
    "bpkb = bin(bpk)\n",
    "print(\"Alice's public key is = \",apk, \"In binary will be = \", apkb)\n",
    "print(\"Bob's public key = \",bpk, \"In binary will be = \", bpkb)\n",
    "#You can print the binary versions "
   ]
  },
  {
   "cell_type": "markdown",
   "id": "2388992b-8180-4220-b62c-1e313955d6ed",
   "metadata": {},
   "source": [
    "7. Alice can take Bob's public key and get the encryption key:"
   ]
  },
  {
   "cell_type": "code",
   "execution_count": 39,
   "id": "30bc2629-0e5c-47ac-bb7e-29239954f229",
   "metadata": {},
   "outputs": [],
   "source": [
    "decKeyA = pow(bpk,a)%p\n",
    "decKeyB = pow(apk,b)%p"
   ]
  },
  {
   "cell_type": "code",
   "execution_count": 40,
   "id": "4d9ce784-56be-437d-8838-f242bb20278c",
   "metadata": {},
   "outputs": [
    {
     "name": "stdout",
     "output_type": "stream",
     "text": [
      "Alice got ->  625 ( 0b1001110001 ) and Bob got -> 625 ( 0b1001110001 )\n"
     ]
    }
   ],
   "source": [
    "print(\"Alice got -> \",decKeyA, \"(\",bin(decKeyA),\") and Bob got ->\",decKeyB, \"(\", bin(decKeyB),\")\")"
   ]
  },
  {
   "cell_type": "markdown",
   "id": "2c53f7d2-c139-446d-aaf4-cd98510745d4",
   "metadata": {},
   "source": [
    "They can use these keys to encrypt-decrypt communications between them. \n",
    "Eve, in the other hand, knows Alice's and Bob's public keys, but because doesn't know a or b, can't get the private key. "
   ]
  },
  {
   "cell_type": "code",
   "execution_count": null,
   "id": "021fffa7-27a8-491d-b8c4-4a838a4acd4e",
   "metadata": {},
   "outputs": [],
   "source": []
  }
 ],
 "metadata": {
  "kernelspec": {
   "display_name": "Python 3 (ipykernel)",
   "language": "python",
   "name": "python3"
  },
  "language_info": {
   "codemirror_mode": {
    "name": "ipython",
    "version": 3
   },
   "file_extension": ".py",
   "mimetype": "text/x-python",
   "name": "python",
   "nbconvert_exporter": "python",
   "pygments_lexer": "ipython3",
   "version": "3.9.12"
  }
 },
 "nbformat": 4,
 "nbformat_minor": 5
}
