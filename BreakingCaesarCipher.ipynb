{
 "cells": [
  {
   "cell_type": "markdown",
   "metadata": {},
   "source": [
    "# Attacking the Caesar's Cipher #"
   ]
  },
  {
   "cell_type": "markdown",
   "metadata": {},
   "source": [
    "The goal of cryptanalysis is for a third party, a cryptanalyst, to gain as much information as possible about the original (\"plaintext\"), attempting to “break” the encryption to read the ciphertext and learning the secret key so future messages can be decrypted and read. A mathematical technique to do this is called a \"cryptographic attack\". "
   ]
  },
  {
   "cell_type": "markdown",
   "metadata": {},
   "source": [
    "## Implementation in Python"
   ]
  },
  {
   "cell_type": "markdown",
   "metadata": {},
   "source": [
    "1. We need to select an alphabet we suppose the message was written on. \n",
    "2. Also, we need to initialize some auxiliar variables that we would need down the road."
   ]
  },
  {
   "cell_type": "code",
   "execution_count": 31,
   "metadata": {},
   "outputs": [],
   "source": [
    "alphabet = 'ABCDEFGHIJKLMNOPQRSTUVWXYZ'\n",
    "plainText = \"\"\n",
    "key = 22"
   ]
  },
  {
   "cell_type": "markdown",
   "metadata": {},
   "source": [
    "2. Let's import the text we want to de-encrypt"
   ]
  },
  {
   "cell_type": "code",
   "execution_count": 32,
   "metadata": {},
   "outputs": [],
   "source": [
    "text = open('cipher.txt')\n",
    "ciphertext = str(text.readlines())"
   ]
  },
  {
   "cell_type": "markdown",
   "metadata": {},
   "source": [
    "Let's see what it was imported. Notice that I casted the list to a string."
   ]
  },
  {
   "cell_type": "code",
   "execution_count": 33,
   "metadata": {},
   "outputs": [
    {
     "name": "stdout",
     "output_type": "stream",
     "text": [
      "[\"'EWETVSJIWWMSREPIRKMRIIVQVHIPZEPPIASVOIHSRWIZIVEPPEVKI*FYHKIXTVSNIGXWMRXLIEVIEWSJTVSGIWWEYXSQEXMSRTSAIVKIRIVEXMSRMRJVEWXVYGXYVIMRJSVQEXMSRXIGLRSPSKCERHXIPIGSQQYRMGEXMSRWLIASVOIHMRXLIZIRIDYIPERIPIGXVMGTSAIVMRHYWXVCVIEGLMRKXST*IBIGYXMZITSWMXMSRWMRTVMZEXIERHTYFPMGGSQTERMIWWYGLEWTQSSJPEIPIGXVMGMHEHHIGEVEGEW*EIW*ZIRIDYIPE*WKIRIVEPHMVIGXSVSJTSAIVWCWXIQWTPERRMRKEXXLIZIRIDYIPERQMRMWXVCSJIPIGXVMGEPIRIVKCREXMSRAMHIWYF*GSQQMWWMSRIVSJKIRIVEXMSRTVSNIGXWEXGSVTSIPIGREXMSRAMHIHMVIGXSVSJMRJSVQEXMSRXIGLRSPSKCTVSNIGXWMRXLIQMRMWXVCSJIPIGXVMGEPIRIVKC*ERHHMVIGXSVSJIRKMRIIVMRKERHGSRWXVYGXMSRTVSNIGXWEXGMII**R'\"]\n"
     ]
    }
   ],
   "source": [
    "print(ciphertext)"
   ]
  },
  {
   "cell_type": "markdown",
   "metadata": {},
   "source": [
    "**Attention!** Here we: \n",
    "1. Look for each character in the ciphertext\n",
    "2. Find the index of such character in our alphabet using the method \"index()\"\n",
    "3. Add 'key' to the index and calculate mod(26)\n",
    "4. Find the new character with such index in our alphabet\n",
    "4. Concatenate the new character to the *plainText* string\n",
    "\n",
    "You can print each new alleged plainText and the check manually whether or not makes sense.\n",
    "Or, you can lookout into the supposed plain text for common words in modern English, and print only those that have them. "
   ]
  },
  {
   "cell_type": "code",
   "execution_count": 46,
   "metadata": {},
   "outputs": [
    {
     "name": "stdout",
     "output_type": "stream",
     "text": [
      "ASAPROFESSIONALENGINEERMRDELVALLEWORKEDONSEVERALLARGEBUDGETPROJECTSINTHEAREASOFPROCESSAUTOMATIONPOWERGENERATIONINFRASTRUCTUREINFORMATIONTECHNOLOGYANDTELECOMMUNICATIONSHEWORKEDINTHEVENEZUELANELECTRICPOWERINDUSTRYREACHINGTOPEXECUTIVEPOSITIONSINPRIVATEANDPUBLICCOMPANIESSUCHASPMOOFLAELECTRICIDADDECARACASAESVENEZUELASGENERALDIRECTOROFPOWERSYSTEMSPLANNINGATTHEVENEZUELANMINISTRYOFELECTRICALENERGYNATIONWIDESUBCOMMISSIONEROFGENERATIONPROJECTSATCORPOELECNATIONWIDEDIRECTOROFINFORMATIONTECHNOLOGYPROJECTSINTHEMINISTRYOFELECTRICALENERGYANDDIRECTOROFENGINEERINGANDCONSTRUCTIONPROJECTSATCIEEN\n",
      "*******************\n"
     ]
    }
   ],
   "source": [
    "for key in range(1,26):    \n",
    "    for c in ciphertext:\n",
    "        if c in alphabet:\n",
    "            plainText = plainText + alphabet[(alphabet.index(c)+key)%26]\n",
    "    # Look at this part\n",
    "    if 'THE' in plainText:\n",
    "        print(plainText)\n",
    "        print(\"*******************\")\n",
    "    # This 'resets' the variable plainText\n",
    "    plainText = \"\""
   ]
  },
  {
   "cell_type": "code",
   "execution_count": null,
   "metadata": {},
   "outputs": [],
   "source": []
  }
 ],
 "metadata": {
  "kernelspec": {
   "display_name": "Python 3 (ipykernel)",
   "language": "python",
   "name": "python3"
  },
  "language_info": {
   "codemirror_mode": {
    "name": "ipython",
    "version": 3
   },
   "file_extension": ".py",
   "mimetype": "text/x-python",
   "name": "python",
   "nbconvert_exporter": "python",
   "pygments_lexer": "ipython3",
   "version": "3.9.12"
  }
 },
 "nbformat": 4,
 "nbformat_minor": 4
}
